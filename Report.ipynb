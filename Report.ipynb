{
 "cells": [
  {
   "cell_type": "markdown",
   "id": "bec29961-92c2-42a9-8a26-8430c282d4ec",
   "metadata": {},
   "source": [
    "# ServiceNow Incidents Report\n",
    "## Analysis of Incident Data - 2023"
   ]
  },
  {
   "cell_type": "markdown",
   "id": "76137306-f95f-4c8a-905e-2ebfecee339a",
   "metadata": {},
   "source": [
    "## Introduction\n",
    "This report presents an in-depth analysis of incident data extracted from ServiceNow, focusing on incidents created from January 1, 2023, to the current date. The purpose of this analysis is to derive insights and recommendations to enhance incident management and response strategies for the [Dari-Tanm Team].\n",
    "\n",
    "The scope of this analysis encompasses a comprehensive review of incident data, including their types, frequency, time trends, key performance indicators (KPIs), correlations, and predictive modeling. By delving into this data, we aim to uncover valuable patterns and provide actionable recommendations to optimize incident handling and improve overall operational efficiency.\n"
   ]
  },
  {
   "cell_type": "markdown",
   "id": "fda29c6a-be76-45a0-9b27-5856f3b89a40",
   "metadata": {
    "jp-MarkdownHeadingCollapsed": true
   },
   "source": [
    "## Data Summary\n",
    "\n",
    "The dataset comprises 3,103 entries and 26 columns, representing incident information.\n",
    "\n",
    "Key columns include 'Number', 'Diagnosed Entity', 'Reported Entity', 'Assigned to', 'Assignment group', 'Service Name', 'Incident State', 'Priority', 'Created', 'Resolved', and others."
   ]
  },
  {
   "cell_type": "markdown",
   "id": "13eccc0e-7262-4c36-8a73-2550356099cd",
   "metadata": {
    "jp-MarkdownHeadingCollapsed": true
   },
   "source": [
    "\n",
    "## Descriptive Analysis\r\n",
    "\r\n",
    "### Resolve Time\r\n",
    "\r\n",
    "- The mean resolution time is approximately 9.62 days.\r\n",
    "- The minimum resolution time is 75 seconds (approximately 1 minute).\r\n",
    "- The maximum resolution time is 8,032,463 seconds (approximately 92.97 days).\r\n",
    "- 25% of the incidents are resolved within approximately 2.29 days.\r\n",
    "- 50% of the incidents are resolved within approximately 6.34 days.\r\n",
    "- 75% of the incidents are resolved within approximately 13.30 days.\r\n",
    "\r\n",
    "### Business Resolve Time\r\n",
    "\r\n",
    "- The mean business resolve time is approximately 2.26 days.\r\n",
    "- The minimum business resolve time is 0 days.\r\n",
    "- The maximum business resolve time is approximately 22.39 days.\r\n",
    "- 25% of the incidents have a business resolve time of approximately 0.72 days.\r\n",
    "- 50% of the incidents have a business resolve time of approximately 3.64 days.\r\n",
    "- 75% of the incidents have a business resolve time of approximately 7.61 days.\r\n",
    "\r\n",
    "These statistics provide an overview of the resolution times and business resolve times for the incidents in the dataset, offering insights into the efficiency of incident resolution.\r\n",
    "\r\n",
    "*Note:*\r\n",
    "\r\n",
    "- **'Resolve time'** represents the total time taken to resolve an incident, including non-business hours.\r\n",
    "- **'Business resolve time'** considers only business hours for incident resolution, excluding non-business hours."
   ]
  },
  {
   "cell_type": "markdown",
   "id": "8747c285-02a2-4b66-9c5f-b42bf5281fde",
   "metadata": {},
   "source": [
    "## Incidents Trends Over Time Analysis"
   ]
  },
  {
   "cell_type": "markdown",
   "id": "f4059550-eb43-45d7-adac-35315fef737e",
   "metadata": {},
   "source": [
    "![Incident Trends Over Time](incident_trends_over_time.png)\r\n",
    "Summary:\r\n",
    "The visualization provides a comprehensive view of incident trends from January 1 to September 25, focusing on daily, weekly, and monthly perspectives:\r\n",
    "\r\n",
    "1. Daily Trend (Top Plot):\r\n",
    "The top plot presents the daily trend of created vs. resolved incidents. The solid bars represent the number of incidents created each day, while the line graph represents the number of incidents resolved. The maximum values for both created and resolved incidents are highlighted. This view helps in understanding the daily fluctuations and identifying high-activity periods.\r\n",
    "\r\n",
    "Insights:\r\n",
    "- On 2023-07-17, the maximum number of incidents were created, reaching 66 incidents.\r\n",
    "- On the same day, 2023-09-04, the highest number of incidents were resolved, totaling 122 resolved incidents.\r\n",
    "\r\n",
    "2. Weekly Trend (Middle Plot):\r\n",
    "The middle plot illustrates the weekly trend of created vs. resolved incidents. Each point represents the count of incidents for a week. The maximum values for created and resolved incidents within a week are highlighted. This view aids in identifying weekly patterns and workload distribution.\r\n",
    "\r\n",
    "Insights:\r\n",
    "- During the week ending on 2023-07-17, the highest number of incidents were created within a week, reaching 232 incidents.\r\n",
    "- In the same week ending on 2023-09-11, the most incidents were resolved, totaling 304 resolved incidents.\r\n",
    "\r\n",
    "3. Monthly Trend (Bottom Plot):\r\n",
    "The bottom plot showcases the monthly trend of created vs. resolved incidents. Each point represents the count of incidents for a month. The maximum values for created and resolved incidents within a month are highlighted. This view enables understanding monthly trends, facilitating long-term planning and resource allocation.\r\n",
    "\r\n",
    "Insights:\r\n",
    "- In August 2023, the highest number of incidents were created in a month, totaling 825 incidents.\r\n",
    "- In the same month, August 2023, the most incidents were resolved, reaching 695 resolved incidents.\r\n",
    "\r\n",
    "Overall Insights:\r\n",
    "- The data suggests a correlation between incident creation and resolution trends. High incident creation periods often coincide with high incident resolution periods, implying effective incident management.\r\n",
    "- Identifying peak activity periods is crucial for resource allocation, ensuring adequate support during high-demand times.\r\n",
    "- Tracking weekly and monthly trends helps in understanding recurring patterns, assisting in workload distribution and long-term planning.\r\n",
    "- The visualization provides actionable insights for optimizing incident management processes and enhancing service quality based on historical trends.\r\n",
    "\n",
    "\n"
   ]
  },
  {
   "cell_type": "markdown",
   "id": "7fe27526-ff61-4172-bd31-55fd997390a3",
   "metadata": {},
   "source": [
    "## Top Services by Incident Count Analysis\n"
   ]
  },
  {
   "cell_type": "markdown",
   "id": "43de8870-c265-4ef7-9a62-1ad2796e9b32",
   "metadata": {},
   "source": [
    "### Overview\n",
    "\r\n",
    "In this section, the analysis focuses on the distribution of incidents across various services to identify the most frequently occurring services based on incident count."
   ]
  },
  {
   "cell_type": "markdown",
   "id": "c5470288-e78d-49d1-869c-050dba4fba3a",
   "metadata": {},
   "source": [
    "### Incidents Distribution by Services\n",
    "\n",
    "#### Top 10 Services \n",
    "h## Interactive Bar Chart\r\n",
    "\r\n",
    "<iframe src=\"file:///C:/Ayman/VS-servicenowreports/year/interactive_bar_chart.html\" width=\"800\" height=\"600\"></iframe>\r\n",
    "\r\n",
    "## Interactive Donut Chart\r\n",
    "\r\n",
    "<iframe src=\"file:///C:/Ayman/VS-servicenowreports/year/interactive_donut_chart.html\" width=\"800\" height=\"600\"></iframe>\r\n",
    "\r\n",
    "e charts\r\n",
    "bar_fig.show()\r\n",
    "donut_fig.show()\r\n",
    "\n",
    "\n",
    "#### Incidents Distribution by Service\n",
    "\n",
    "| Service Name                                                | Incident Count |\n",
    "| ----------------------------------------------------------- | -------------- |\n",
    "| Request for a Lease Contract Renewal                         | 686            |\n",
    "| Request for Property Ownership Certificate                   | 418            |\n",
    "| Request to Register a New Lease Contract                     | 366            |\n",
    "| Request for Site Plan                                       | 230            |\n",
    "| Enroll and Register Units for Lease                          | 155            |\n",
    "| Documents                                                   | 123            |\n",
    "| Request to Pay Rental Fees for Long-Term Leases             | 113            |\n",
    "| Request an Ownership Deed                                   | 101            |\n",
    "| Request to Amend a Lease Contract                            | 62             |\n",
    "| Register a Property Mortgage Contract                        | 60             |\n",
    "| ...                                                         | ...            |\n",
    "| Request a Certified Engineer Certificate                     | 1              |\n",
    "| Request governmental land lease contract termination         | 1              |\n",
    "| AD Locker                                                   | 1              |\n",
    "| Service Availability Provider                                | 1              |\n"
   ]
  },
  {
   "cell_type": "markdown",
   "id": "4a7f2fcb-b27b-46af-9748-7c79b358be22",
   "metadata": {},
   "source": [
    "## Interactive Bar Chart\r\n",
    "\r\n",
    "<iframe src=\"file:///C:/Ayman/VS-servicenowreports/year/interactive_bar_chart.html\" width=\"800\" height=\"600\"></iframe>\r\n",
    "\r\n",
    "## Interactive Donut Chart\r\n",
    "\r\n",
    "<iframe src=\"file:///C:/Ayman/VS-servicenowreports/year/interactive_donut_chart.html\" width=\"800\" height=\"600\"></iframe>\r\n",
    "rame>\r\n"
   ]
  },
  {
   "cell_type": "code",
   "execution_count": null,
   "id": "e6a19fb2-e20a-4f9b-8ac7-9d530c159275",
   "metadata": {},
   "outputs": [],
   "source": []
  }
 ],
 "metadata": {
  "kernelspec": {
   "display_name": "Python 3 (ipykernel)",
   "language": "python",
   "name": "python3"
  },
  "language_info": {
   "codemirror_mode": {
    "name": "ipython",
    "version": 3
   },
   "file_extension": ".py",
   "mimetype": "text/x-python",
   "name": "python",
   "nbconvert_exporter": "python",
   "pygments_lexer": "ipython3",
   "version": "3.11.5"
  }
 },
 "nbformat": 4,
 "nbformat_minor": 5
}
